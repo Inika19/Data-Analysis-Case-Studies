{
 "cells": [
  {
   "cell_type": "code",
   "execution_count": 1,
   "metadata": {
    "ExecuteTime": {
     "end_time": "2019-10-12T11:22:25.411530Z",
     "start_time": "2019-10-12T11:22:23.626920Z"
    }
   },
   "outputs": [],
   "source": [
    "import pandas as pd\n",
    "import numpy as np\n",
    "import matplotlib.pyplot as plt"
   ]
  },
  {
   "cell_type": "code",
   "execution_count": 2,
   "metadata": {
    "ExecuteTime": {
     "end_time": "2019-10-12T11:22:25.453081Z",
     "start_time": "2019-10-12T11:22:25.415411Z"
    }
   },
   "outputs": [
    {
     "data": {
      "text/html": [
       "<div>\n",
       "<style scoped>\n",
       "    .dataframe tbody tr th:only-of-type {\n",
       "        vertical-align: middle;\n",
       "    }\n",
       "\n",
       "    .dataframe tbody tr th {\n",
       "        vertical-align: top;\n",
       "    }\n",
       "\n",
       "    .dataframe thead th {\n",
       "        text-align: right;\n",
       "    }\n",
       "</style>\n",
       "<table border=\"1\" class=\"dataframe\">\n",
       "  <thead>\n",
       "    <tr style=\"text-align: right;\">\n",
       "      <th></th>\n",
       "      <th>SNo</th>\n",
       "      <th>Date</th>\n",
       "      <th>StartupName</th>\n",
       "      <th>IndustryVertical</th>\n",
       "      <th>SubVertical</th>\n",
       "      <th>CityLocation</th>\n",
       "      <th>InvestorsName</th>\n",
       "      <th>InvestmentType</th>\n",
       "      <th>AmountInUSD</th>\n",
       "      <th>Remarks</th>\n",
       "    </tr>\n",
       "  </thead>\n",
       "  <tbody>\n",
       "    <tr>\n",
       "      <th>0</th>\n",
       "      <td>0</td>\n",
       "      <td>01/08/2017</td>\n",
       "      <td>TouchKin</td>\n",
       "      <td>Technology</td>\n",
       "      <td>Predictive Care Platform</td>\n",
       "      <td>Bangalore</td>\n",
       "      <td>Kae Capital</td>\n",
       "      <td>Private Equity</td>\n",
       "      <td>1,300,000</td>\n",
       "      <td>NaN</td>\n",
       "    </tr>\n",
       "    <tr>\n",
       "      <th>1</th>\n",
       "      <td>1</td>\n",
       "      <td>02/08/2017</td>\n",
       "      <td>Ethinos</td>\n",
       "      <td>Technology</td>\n",
       "      <td>Digital Marketing Agency</td>\n",
       "      <td>Mumbai</td>\n",
       "      <td>Triton Investment Advisors</td>\n",
       "      <td>Private Equity</td>\n",
       "      <td>NaN</td>\n",
       "      <td>NaN</td>\n",
       "    </tr>\n",
       "    <tr>\n",
       "      <th>2</th>\n",
       "      <td>2</td>\n",
       "      <td>02/08/2017</td>\n",
       "      <td>Leverage Edu</td>\n",
       "      <td>Consumer Internet</td>\n",
       "      <td>Online platform for Higher Education Services</td>\n",
       "      <td>New Delhi</td>\n",
       "      <td>Kashyap Deorah, Anand Sankeshwar, Deepak Jain,...</td>\n",
       "      <td>Seed Funding</td>\n",
       "      <td>NaN</td>\n",
       "      <td>NaN</td>\n",
       "    </tr>\n",
       "    <tr>\n",
       "      <th>3</th>\n",
       "      <td>3</td>\n",
       "      <td>02/08/2017</td>\n",
       "      <td>Zepo</td>\n",
       "      <td>Consumer Internet</td>\n",
       "      <td>DIY Ecommerce platform</td>\n",
       "      <td>Mumbai</td>\n",
       "      <td>Kunal Shah, LetsVenture, Anupam Mittal, Hetal ...</td>\n",
       "      <td>Seed Funding</td>\n",
       "      <td>500,000</td>\n",
       "      <td>NaN</td>\n",
       "    </tr>\n",
       "    <tr>\n",
       "      <th>4</th>\n",
       "      <td>4</td>\n",
       "      <td>02/08/2017</td>\n",
       "      <td>Click2Clinic</td>\n",
       "      <td>Consumer Internet</td>\n",
       "      <td>healthcare service aggregator</td>\n",
       "      <td>Hyderabad</td>\n",
       "      <td>Narottam Thudi, Shireesh Palle</td>\n",
       "      <td>Seed Funding</td>\n",
       "      <td>850,000</td>\n",
       "      <td>NaN</td>\n",
       "    </tr>\n",
       "  </tbody>\n",
       "</table>\n",
       "</div>"
      ],
      "text/plain": [
       "   SNo        Date   StartupName   IndustryVertical  \\\n",
       "0    0  01/08/2017      TouchKin         Technology   \n",
       "1    1  02/08/2017       Ethinos         Technology   \n",
       "2    2  02/08/2017  Leverage Edu  Consumer Internet   \n",
       "3    3  02/08/2017          Zepo  Consumer Internet   \n",
       "4    4  02/08/2017  Click2Clinic  Consumer Internet   \n",
       "\n",
       "                                     SubVertical CityLocation  \\\n",
       "0                       Predictive Care Platform    Bangalore   \n",
       "1                       Digital Marketing Agency       Mumbai   \n",
       "2  Online platform for Higher Education Services    New Delhi   \n",
       "3                         DIY Ecommerce platform       Mumbai   \n",
       "4                  healthcare service aggregator    Hyderabad   \n",
       "\n",
       "                                       InvestorsName  InvestmentType  \\\n",
       "0                                        Kae Capital  Private Equity   \n",
       "1                         Triton Investment Advisors  Private Equity   \n",
       "2  Kashyap Deorah, Anand Sankeshwar, Deepak Jain,...    Seed Funding   \n",
       "3  Kunal Shah, LetsVenture, Anupam Mittal, Hetal ...    Seed Funding   \n",
       "4                     Narottam Thudi, Shireesh Palle    Seed Funding   \n",
       "\n",
       "  AmountInUSD Remarks  \n",
       "0   1,300,000     NaN  \n",
       "1         NaN     NaN  \n",
       "2         NaN     NaN  \n",
       "3     500,000     NaN  \n",
       "4     850,000     NaN  "
      ]
     },
     "execution_count": 2,
     "metadata": {},
     "output_type": "execute_result"
    }
   ],
   "source": [
    "df = pd.read_csv('startup_funding.csv')\n",
    "df.head()"
   ]
  },
  {
   "cell_type": "markdown",
   "metadata": {},
   "source": [
    "## Question 1\n",
    "Your Friend has developed the Product and he wants to establish the product startup and he is searching for a perfect location where getting the investment has a high chance. But due to its financial restriction, he can choose only between three locations -  __Bangalore, Mumbai, and NCR__. As a friend, you want to help your friend deciding the location.   \n",
    "Find the location where the most number of funding is done. That means, find the location where startups has received funding maximum number of times. Plot the bar graph between location and number of funding.   \n",
    " - NCR includes Gurgaon, Noida and New Delhi. \n",
    " - Take city name \"Delhi\" as \"New Delhi\".\n",
    " - Check the case-sensitiveness of cities also. That means, at some place instead of \"Bangalore\", \"bangalore\" is given. Take city name as \"Bangalore\". \n",
    " - For few startups multiple locations are given, one Indian and one Foreign. Consider the startup if any one of the city lies in given locations.\n"
   ]
  },
  {
   "cell_type": "code",
   "execution_count": 3,
   "metadata": {
    "ExecuteTime": {
     "end_time": "2019-10-12T11:22:26.224311Z",
     "start_time": "2019-10-12T11:22:25.457538Z"
    }
   },
   "outputs": [
    {
     "data": {
      "image/png": "[encoded data removed]",
      "text/plain": [
       "<Figure size 864x360 with 2 Axes>"
      ]
     },
     "metadata": {
      "needs_background": "light"
     },
     "output_type": "display_data"
    }
   ],
   "source": [
    "df['CityLocation'].fillna('0',inplace = True) #unknown locations replaced by '0'\n",
    "df['CityLocation'].replace('bangalore','Bangalore',inplace = True) #correcting city names\n",
    "df['CityLocation'].replace('Delhi','New Delhi',inplace = True)\n",
    "\n",
    "target_cities = ['Bangalore','Mumbai','Gurgaon','Noida','New Delhi'] #target cities as specified in question\n",
    "targets = [c.lower() for c in target_cities]\n",
    "\n",
    "d = {}\n",
    "for _,row in df.iterrows():\n",
    "    locations = row['CityLocation'].split('/') #separating cities or locations\n",
    "    for l in locations:\n",
    "        l = l.strip()\n",
    "        if l.lower() in targets:\n",
    "            d[l]=d.get(l,0)+1  \n",
    "\n",
    "\n",
    "vals = np.array(list(d.values()))\n",
    "i = vals.argmax()\n",
    "colors = ['tab:blue' for i in range(len(vals))]\n",
    "colors[i]='tab:orange' # orange bar indicates most favourable location\n",
    "\n",
    "\n",
    "\n",
    "fig,axs = plt.subplots(1,2, figsize=(12,5)) #to make plots side by side\n",
    "\n",
    "axs[0].bar(d.keys(),d.values(),edgecolor ='black',color = colors)\n",
    "axs[0].set_title(\"Funding by City\", fontsize = 14)\n",
    "axs[0].set_xlabel('Locations', fontsize=12)\n",
    "axs[0].set_ylabel('Number of times funded', fontsize=12)\n",
    "\n",
    "\n",
    "# Combining cities under NCR into one location\n",
    "d['NCR'] = d['New Delhi']+d['Gurgaon']+d['Noida']\n",
    "del d['New Delhi']\n",
    "del d['Gurgaon']\n",
    "del d['Noida']\n",
    "\n",
    "\n",
    "vals = np.array(list(d.values()))\n",
    "i = vals.argmax()\n",
    "colors = ['tab:blue' for i in range(3)]\n",
    "colors[i]='tab:orange'\n",
    "\n",
    "\n",
    "axs[1].bar(d.keys(),d.values(),edgecolor ='black',color = colors,width = 0.8)\n",
    "axs[1].set_title(\"Funding by Location\", fontsize=14)\n",
    "axs[1].set_xlabel('Locations', fontsize=12)\n",
    "axs[1].set_ylabel('Number of times funded', fontsize=12)\n",
    "\n",
    "plt.tight_layout()\n",
    "plt.show()"
   ]
  },
  {
   "cell_type": "markdown",
   "metadata": {},
   "source": [
    "## Question 2\n",
    "Even after trying for so many times, your friend’s startup could not find the investment. So you decided to take this matter in your hand and try to find the list of investors who probably can invest in your friend’s startup. Your list will increase the chance of your friend startup getting some initial investment by contacting these investors.  \n",
    " - Find the top 5 investors who have invested maximum number of times\n",
    " - Consider repeat investments in one company also \n",
    " - In a startup, multiple investors might have invested. So consider each investor for that startup. \n",
    " - Ignore undisclosed investors."
   ]
  },
  {
   "cell_type": "code",
   "execution_count": 4,
   "metadata": {
    "ExecuteTime": {
     "end_time": "2019-10-12T11:22:26.772423Z",
     "start_time": "2019-10-12T11:22:26.227526Z"
    }
   },
   "outputs": [
    {
     "name": "stdout",
     "output_type": "stream",
     "text": [
      "Sequoia Capital 64\n",
      "Accel Partners 52\n",
      "Kalaari Capital 44\n",
      "SAIF Partners 41\n",
      "Indian Angel Network 40\n"
     ]
    },
    {
     "data": {
      "image/png": "[encoded data removed]",
      "text/plain": [
       "<Figure size 432x288 with 1 Axes>"
      ]
     },
     "metadata": {
      "needs_background": "light"
     },
     "output_type": "display_data"
    }
   ],
   "source": [
    "df = pd.read_csv('startup_funding.csv')\n",
    "\n",
    "df['InvestorsName'].fillna('0',inplace = True)\n",
    "d = {}\n",
    "for _,row in df.iterrows():\n",
    "    x = row['InvestorsName']\n",
    "    names = x.split(',')\n",
    "    for name in names:\n",
    "        if 'undisclosed' in name.lower(): #ignoring undisclosed investors\n",
    "            break\n",
    "        else:\n",
    "            name = name.strip()\n",
    "            d[name]=d.get(name,0)+1\n",
    "\n",
    "d = sorted(d.items(), key=lambda x: x[1], reverse=True)[:5] # d is now a list of tuples (investor, count) \n",
    "# sorted in descending order of count\n",
    "\n",
    "\n",
    "investors = [t[0] for t in d]\n",
    "counts = [t[1] for t in d]\n",
    "for i in range(len(d)):\n",
    "    print(investors[i],counts[i])\n",
    "    \n",
    "plt.bar(investors,counts)\n",
    "plt.title('Funding by Investors')\n",
    "plt.xlabel('Investor')\n",
    "plt.ylabel('Total number of fundings')\n",
    "plt.xticks(rotation = 45, horizontalalignment = 'center')\n",
    "plt.show()"
   ]
  },
  {
   "cell_type": "markdown",
   "metadata": {},
   "source": [
    "## Question 3\n",
    "After re-analysing the dataset you found out that some investors have invested in the same startup at different number of funding rounds. So before finalising the previous list, you want to improvise it by finding the top 5 investors who have invested in different number of startups. This list will be more helpful than your previous list in finding the investment for your friend startup. \n",
    " - Find the top 5 investors who have invested maximum number of times in different companies (if one investor has invested multiple times in one startup, count one for that company)\n",
    " - There are many errors in startup names. Ignore correcting all, just handle the important ones - Ola, Flipkart, Oyo and Paytm."
   ]
  },
  {
   "cell_type": "code",
   "execution_count": 5,
   "metadata": {
    "ExecuteTime": {
     "end_time": "2019-10-12T11:22:26.811927Z",
     "start_time": "2019-10-12T11:22:26.776327Z"
    }
   },
   "outputs": [
    {
     "data": {
      "text/plain": [
       "{'Applied Solar Technologies',\n",
       " 'EzySolare',\n",
       " 'Flipkart',\n",
       " 'Flipkart.com',\n",
       " 'FroyoFit',\n",
       " 'HolaChef',\n",
       " 'Holachef',\n",
       " 'Kolabro',\n",
       " 'OYO Rooms',\n",
       " 'OYOfit',\n",
       " 'Ola',\n",
       " 'Ola Cabs',\n",
       " 'Olacabs',\n",
       " 'Oriano Solar',\n",
       " 'Oyo',\n",
       " 'Oyo Rooms',\n",
       " 'OyoRooms',\n",
       " 'Oyorooms',\n",
       " 'Paytm',\n",
       " 'Paytm Marketplace',\n",
       " 'SolarTown',\n",
       " 'Truckola'}"
      ]
     },
     "execution_count": 5,
     "metadata": {},
     "output_type": "execute_result"
    }
   ],
   "source": [
    "df = pd.read_csv('startup_funding.csv')\n",
    "\n",
    "names = df['StartupName']\n",
    "name_corrections = set()\n",
    "for x in names:\n",
    "    if 'ola' in x.lower() or 'flipkart' in x.lower() or 'oyo' in x.lower() or 'paytm' in x.lower():\n",
    "        name_corrections.add(x)\n",
    "        \n",
    "name_corrections # used to find corrections to be made in startup names (in the next cell)"
   ]
  },
  {
   "cell_type": "code",
   "execution_count": 6,
   "metadata": {
    "ExecuteTime": {
     "end_time": "2019-10-12T11:22:27.388807Z",
     "start_time": "2019-10-12T11:22:26.815667Z"
    }
   },
   "outputs": [
    {
     "name": "stdout",
     "output_type": "stream",
     "text": [
      "Sequoia Capital 48\n",
      "Accel Partners 46\n",
      "Kalaari Capital 41\n",
      "Indian Angel Network 40\n",
      "Blume Ventures 36\n"
     ]
    },
    {
     "data": {
      "image/png": "[encoded data removed]",
      "text/plain": [
       "<Figure size 432x288 with 1 Axes>"
      ]
     },
     "metadata": {
      "needs_background": "light"
     },
     "output_type": "display_data"
    }
   ],
   "source": [
    "# Making necessary corrections in startup names\n",
    "x = dict.fromkeys(['OYO Rooms', 'Oyo Rooms','OyoRooms','Oyorooms'], 'Oyo')\n",
    "y = dict.fromkeys(['Ola Cabs','Olacabs'],'Ola')\n",
    "df['StartupName']=df['StartupName'].replace(x)\n",
    "df['StartupName']=df['StartupName'].replace(y)\n",
    "df['StartupName']=df['StartupName'].replace({\"Flipkart.com\":\"Flipkart\"})\n",
    "df['StartupName']=df['StartupName'].replace({'Paytm Marketplace':'Paytm'})\n",
    "df['InvestorsName'].fillna('0',inplace = True) #nan handling of unknown investors\n",
    "\n",
    "d = {}\n",
    "# d is a dictionary which uses investors as keys for which value is another dictionary with\n",
    "# startup names as keys and number of investments made in that startup as value\n",
    "# for ex 'Sequoia Capital': {'Ola':5, 'Flipkart':2} could be a key value pair in d (so Sequoia would have invested\n",
    "# 5 times in Ola and twice in Flipkart)\n",
    "\n",
    "for _,row in df.iterrows():\n",
    "    x = row['InvestorsName'].strip().rstrip(',') # trailing comma caused ' ' to appear as investor name so it had to be removed\n",
    "    startup = row['StartupName'].strip()\n",
    "    names = x.split(',')\n",
    "    for name in names:\n",
    "        if 'undisclosed' in name.lower(): #ignoring undisclosed investors\n",
    "            break\n",
    "        else:\n",
    "            name = name.strip()\n",
    "            if name in d:\n",
    "                if startup in d[name]:\n",
    "                    d[name][startup]+=1\n",
    "                else:\n",
    "                    d[name][startup]=1\n",
    "            else:\n",
    "                d[name]={}\n",
    "                d[name][startup]=1\n",
    "\n",
    "\n",
    "d2 = {}\n",
    "#counts number of startups an investor has invested in, as is required by question\n",
    "# ex: 'Sequoia Capital': 2 could be a key value pair in d2 corresponding to example key-value pair in d \n",
    "# i.e. Sequoia Capital invested in 2 startups (ola and flipkart)\n",
    "\n",
    "for investor in d:\n",
    "    d2[investor] = len(d[investor])\n",
    "    \n",
    "d2 = sorted(d2.items(), key=lambda x: x[1], reverse=True)[:5] # d2 is now a list of tuples (investor, count) \n",
    "# sorted in descending order of count\n",
    "\n",
    "investors = [t[0] for t in d2]\n",
    "counts = [t[1] for t in d2]\n",
    "for i in range(len(d2)):\n",
    "    print(investors[i],counts[i])\n",
    "    \n",
    "plt.bar(investors,counts)\n",
    "plt.xticks(rotation = 45, horizontalalignment = 'center')\n",
    "plt.title('Funding by Investors')\n",
    "plt.xlabel('Investor')\n",
    "plt.ylabel('Number of startups funded')\n",
    "plt.show()"
   ]
  },
  {
   "cell_type": "markdown",
   "metadata": {},
   "source": [
    "## Question 4\n",
    "Even after putting so much effort in finding the probable investors, it didn't turn out to be helpful for your friend. So you went to your investor friend to understand the situation better and your investor friend explained to you about the different Investment Types and their features. This new information will be helpful in finding the right investor.   Since your friend startup is at an early stage startup, the best-suited investment type would be - __Seed Funding and Crowdfunding__. \n",
    " - Find the top 5 investors who have invested in a different number of startups and their investment type is Crowdfunding or Seed Funding. \n",
    " - Correct spelling of investment types are - \"Private Equity\", \"Seed Funding\", \"Debt Funding\", and \"Crowd Funding\". Keep an eye for any spelling mistake. You can find this by printing unique values from this column. \n",
    " - There are many errors in startup names. Ignore correcting all, just handle the important ones - Ola, Flipkart, Oyo and Paytm."
   ]
  },
  {
   "cell_type": "code",
   "execution_count": 7,
   "metadata": {
    "ExecuteTime": {
     "end_time": "2019-10-12T11:22:27.423367Z",
     "start_time": "2019-10-12T11:22:27.392722Z"
    },
    "scrolled": true
   },
   "outputs": [
    {
     "data": {
      "text/plain": [
       "{'0',\n",
       " 'Crowd Funding',\n",
       " 'Crowd funding',\n",
       " 'Debt Funding',\n",
       " 'Private Equity',\n",
       " 'PrivateEquity',\n",
       " 'Seed Funding',\n",
       " 'SeedFunding'}"
      ]
     },
     "execution_count": 7,
     "metadata": {},
     "output_type": "execute_result"
    }
   ],
   "source": [
    "df = pd.read_csv('startup_funding.csv')\n",
    "df.InvestmentType.fillna('0',inplace = True)\n",
    "set(df['InvestmentType']) # used to find corrections to be made in investment type (in the next cell)"
   ]
  },
  {
   "cell_type": "code",
   "execution_count": 8,
   "metadata": {
    "ExecuteTime": {
     "end_time": "2019-10-12T11:22:28.237349Z",
     "start_time": "2019-10-12T11:22:27.430027Z"
    }
   },
   "outputs": [
    {
     "name": "stdout",
     "output_type": "stream",
     "text": [
      "Indian Angel Network 33\n",
      "Rajan Anandan 23\n",
      "LetsVenture 16\n",
      "Anupam Mittal 16\n",
      "Kunal Shah 14\n"
     ]
    },
    {
     "data": {
      "image/png": "[encoded data removed]",
      "text/plain": [
       "<Figure size 432x288 with 1 Axes>"
      ]
     },
     "metadata": {
      "needs_background": "light"
     },
     "output_type": "display_data"
    }
   ],
   "source": [
    "# corrections\n",
    "df = pd.read_csv('startup_funding.csv')\n",
    "df['InvestmentType'].replace('SeedFunding','Seed Funding',inplace = True)\n",
    "df['InvestmentType'].replace('Crowd funding','Crowd Funding',inplace = True)\n",
    "df['InvestmentType'].replace('PrivateEquity','Private Equity',inplace = True)\n",
    "df['AmountInUSD'].fillna('0',inplace = True) # nan handling of funding column\n",
    "\n",
    "x = dict.fromkeys(['OYO Rooms', 'Oyo Rooms','OyoRooms','Oyorooms'], 'Oyo')\n",
    "y = dict.fromkeys(['Ola Cabs','Olacabs'],'Ola')\n",
    "df['StartupName']=df['StartupName'].replace(x)\n",
    "df['StartupName']=df['StartupName'].replace(y)\n",
    "df['StartupName']=df['StartupName'].replace({\"Flipkart.com\":\"Flipkart\"})\n",
    "df['StartupName']=df['StartupName'].replace({'Paytm Marketplace':'Paytm'})\n",
    "df['InvestorsName'].fillna('0',inplace = True) # unknown investor names replaced by '0'\n",
    "\n",
    "d = {}\n",
    "# d is a dictionary which uses investors as keys for which value is another dictionary with\n",
    "# startup names as keys and number of investments made in that startup as value\n",
    "# for ex 'Sequoia Capital': {'Ola':5, 'Flipkart':2} could be a key value pair in d (so Sequoia would have invested\n",
    "# 5 times in Ola and twice in Flipkart)\n",
    "\n",
    "for _,row in df.iterrows():\n",
    "    x = row['InvestorsName'].strip().rstrip(',') # trailing comma caused ' ' to appear as investor name so it had to be removed\n",
    "    itype = row['InvestmentType']\n",
    "    if itype=='Seed Funding' or itype=='Crowd Funding':\n",
    "        startup = row['StartupName'].strip()\n",
    "        names = x.split(',')\n",
    "        for name in names:\n",
    "            if 'undisclosed' in name.lower(): #ignoring undisclosed investors\n",
    "                break\n",
    "            else:\n",
    "                name = name.strip()\n",
    "                if name in d:\n",
    "                    if startup in d[name]:\n",
    "                        d[name][startup]+=1\n",
    "                    else:\n",
    "                        d[name][startup]=1\n",
    "                else:\n",
    "                    d[name]={}\n",
    "                    d[name][startup]=1\n",
    "\n",
    "\n",
    "d2 = {} #counts number of startups an investor has invested in, as is required by question\n",
    "# ex: 'Sequoia Capital': 2 could be a key value pair in d2 corresponding to example key-value pair in d \n",
    "# i.e. Sequoia Capital invested in 2 startups (ola and flipkart)\n",
    "\n",
    "for investor in d:\n",
    "    d2[investor] = len(d[investor])\n",
    "    \n",
    "d2 = sorted(d2.items(), key=lambda x: x[1], reverse=True)[:5] # d2 is now a list of tuples (investor, count) \n",
    "# sorted in descending order of count\n",
    "\n",
    "investors = [t[0] for t in d2]\n",
    "counts = [t[1] for t in d2]\n",
    "for i in range(len(d2)):\n",
    "    print(investors[i],counts[i])\n",
    "    \n",
    "plt.bar(investors,counts)\n",
    "plt.xticks(rotation = 45, horizontalalignment = 'center')\n",
    "plt.title('Seed Funding and Crowd Funding by Investors')\n",
    "plt.xlabel('Investor')\n",
    "plt.ylabel('Number of startups funded')\n",
    "plt.show()"
   ]
  },
  {
   "cell_type": "markdown",
   "metadata": {},
   "source": [
    "## Question 5\n",
    "Due to your immense help, your friend startup successfully got seed funding and it is on the operational mode. Now your friend wants to expand his startup and he is looking for new investors for his startup. Now you again come as a saviour to help your friend and want to create a list of probable new new investors. Before moving forward you remember your investor friend advice that finding the investors by analysing the investment type.   \n",
    "Since your friend startup is not in early phase it is in growth stage so the best-suited investment type is __Private Equity__. \n",
    " - Find the top 5 investors who have invested in a different number of startups and their investment type is Private Equity. \n",
    " - Correct spelling of investment types are - \"Private Equity\", \"Seed Funding\", \"Debt Funding\", and \"Crowd Funding\". Keep an eye for any spelling mistake. You can find this by printing unique values from this column.\n",
    " - There are many errors in startup names. Ignore correcting all, just handle the important ones - Ola, Flipkart, Oyo and Paytm."
   ]
  },
  {
   "cell_type": "code",
   "execution_count": 9,
   "metadata": {
    "ExecuteTime": {
     "end_time": "2019-10-12T11:22:29.114376Z",
     "start_time": "2019-10-12T11:22:28.249307Z"
    }
   },
   "outputs": [
    {
     "name": "stdout",
     "output_type": "stream",
     "text": [
      "Sequoia Capital 45\n",
      "Accel Partners 42\n",
      "Kalaari Capital 35\n",
      "Blume Ventures 27\n",
      "SAIF Partners 24\n"
     ]
    },
    {
     "data": {
      "image/png": "[encoded data removed]",
      "text/plain": [
       "<Figure size 432x288 with 1 Axes>"
      ]
     },
     "metadata": {
      "needs_background": "light"
     },
     "output_type": "display_data"
    }
   ],
   "source": [
    "# Investent type spellings have already been corrected\n",
    "# Startup Name spellings have already been corrected\n",
    "# nan values have been handled\n",
    "\n",
    "d = {}\n",
    "for _,row in df.iterrows():\n",
    "    x = row['InvestorsName'].strip().rstrip(',')\n",
    "    itype = row['InvestmentType']\n",
    "    if itype=='Private Equity':\n",
    "        startup = row['StartupName'].strip()\n",
    "        names = x.split(',')\n",
    "        for name in names:\n",
    "            if 'undisclosed' in name.lower():\n",
    "                break\n",
    "            else:\n",
    "                name = name.strip()\n",
    "                if name in d:\n",
    "                    if startup in d[name]:\n",
    "                        d[name][startup]+=1\n",
    "                    else:\n",
    "                        d[name][startup]=1\n",
    "                else:\n",
    "                    d[name]={}\n",
    "                    d[name][startup]=1\n",
    "\n",
    "\n",
    "d2 = {}\n",
    "for investor in d:\n",
    "    d2[investor] = len(d[investor])\n",
    "    \n",
    "d2 = sorted(d2.items(), key=lambda x: x[1], reverse=True)[:5]\n",
    "\n",
    "investors = [t[0] for t in d2]\n",
    "counts = [t[1] for t in d2]\n",
    "for i in range(len(d2)):\n",
    "    print(investors[i],counts[i])\n",
    "    \n",
    "plt.bar(investors,counts)\n",
    "plt.xticks(rotation = 45, horizontalalignment = 'center')\n",
    "plt.title('Private Equity Investments')\n",
    "plt.xlabel('Investor')\n",
    "plt.ylabel('Number of startups funded')\n",
    "plt.show()"
   ]
  }
 ],
 "metadata": {
  "kernelspec": {
   "display_name": "Python 3",
   "language": "python",
   "name": "python3"
  },
  "language_info": {
   "codemirror_mode": {
    "name": "ipython",
    "version": 3
   },
   "file_extension": ".py",
   "mimetype": "text/x-python",
   "name": "python",
   "nbconvert_exporter": "python",
   "pygments_lexer": "ipython3",
   "version": "3.7.6"
  },
  "toc": {
   "base_numbering": 1,
   "nav_menu": {},
   "number_sections": true,
   "sideBar": true,
   "skip_h1_title": false,
   "title_cell": "Table of Contents",
   "title_sidebar": "Contents",
   "toc_cell": false,
   "toc_position": {},
   "toc_section_display": true,
   "toc_window_display": false
  }
 },
 "nbformat": 4,
 "nbformat_minor": 2
}
