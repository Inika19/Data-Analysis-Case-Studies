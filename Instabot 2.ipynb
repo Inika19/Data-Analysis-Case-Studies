{
 "cells": [
  {
   "cell_type": "code",
   "execution_count": 91,
   "metadata": {
    "ExecuteTime": {
     "end_time": "2020-03-25T12:01:42.459266Z",
     "start_time": "2020-03-25T12:01:42.447207Z"
    }
   },
   "outputs": [],
   "source": [
    "from selenium import webdriver\n",
    "from selenium.webdriver.support.ui import WebDriverWait\n",
    "from selenium.webdriver.support import expected_conditions as ec\n",
    "from selenium.webdriver.common.by import By\n",
    "from selenium.common.exceptions import NoSuchElementException, StaleElementReferenceException\n",
    "import time\n",
    "import re"
   ]
  },
  {
   "cell_type": "code",
   "execution_count": 126,
   "metadata": {
    "ExecuteTime": {
     "end_time": "2020-03-25T12:42:45.311833Z",
     "start_time": "2020-03-25T12:42:35.385269Z"
    }
   },
   "outputs": [],
   "source": [
    "driver = webdriver.Chrome('/Users/inika/Selenium Webdrivers/chromedriver')\n",
    "driver.get('https://instagram.com')\n",
    "# driver.maximize_window()\n",
    "\n",
    "#login\n",
    "sample_username = \"\"\n",
    "sample_password = \"\"\n",
    "\n",
    "wait = WebDriverWait(driver, 10)#driver, upper limit\n",
    "login = wait.until(ec.presence_of_element_located((By.XPATH,\"//button[@type = 'submit']\")))\n",
    "inputs = driver.find_elements_by_tag_name('input')\n",
    "inputs[0].send_keys(sample_username)\n",
    "inputs[1].send_keys(sample_password)\n",
    "login.click()\n",
    "\n",
    "time.sleep(2)\n",
    "try:\n",
    "    driver.find_element_by_xpath(\"//*[contains(text(), 'Not Now')]\").click()\n",
    "except NoSuchElementException:\n",
    "    pass"
   ]
  },
  {
   "cell_type": "markdown",
   "metadata": {
    "ExecuteTime": {
     "end_time": "2020-03-25T10:56:35.907354Z",
     "start_time": "2020-03-25T10:56:35.811036Z"
    }
   },
   "source": [
    "## Question 1: \n",
    "\n",
    "Now your friend has followed a lot of different food bloggers, he needs to analyse the habits of these bloggers.\n",
    "From the list of instagram handles you obtained when you searched ‘food’ in previous project. \n",
    "- Open the first 10 handles and find the top 5 which have the highest number of followers\n",
    "- Now Find the number of posts these handles have done in the previous 3 days.\n",
    "- Depict this information using a suitable graph."
   ]
  },
  {
   "cell_type": "code",
   "execution_count": 127,
   "metadata": {
    "ExecuteTime": {
     "end_time": "2020-03-25T12:42:47.107085Z",
     "start_time": "2020-03-25T12:42:45.318743Z"
    }
   },
   "outputs": [],
   "source": [
    "searchbox = driver.find_element_by_xpath(\"//input[@placeholder = 'Search']\") #search box\n",
    "searchbox.send_keys(\"food\")\n",
    "time.sleep(1)\n",
    "li = list(driver.find_elements_by_xpath(\"//div[@class = 'fuqBx']/*\")) #list of items that show up\n",
    "handles = []\n",
    "for i in li:\n",
    "    result = i.get_attribute('href')\n",
    "    if 'location' not in result and 'tags' not in result:\n",
    "        x = i.find_element_by_xpath('./div/div/div')\n",
    "        handles.append(x.text)\n",
    "        if len(handles)==10:\n",
    "            break\n",
    "\n",
    "clear = driver.find_element_by_xpath(\"//div[contains(@class, 'coreSpriteSearchClear')]\")\n",
    "clear.click()\n",
    "\n",
    "followers = {}\n",
    "for h in handles:\n",
    "    searchbox = driver.find_element_by_xpath(\"//input[@placeholder = 'Search']\") #search box\n",
    "    searchbox.send_keys(\"@\"+h)\n",
    "    profile = wait.until(ec.presence_of_element_located((By.XPATH,\"//div[@class = 'fuqBx']/a\")))\n",
    "    driver.get(profile.get_attribute('href'))\n",
    "    followers[h] = int(re.sub(\"[^0-9]\",\"\",driver.find_element_by_xpath(\"//a[text() = ' followers']/span\").get_attribute('title')))\n",
    "    if len(followers)==10:\n",
    "        break"
   ]
  },
  {
   "cell_type": "code",
   "execution_count": 129,
   "metadata": {
    "ExecuteTime": {
     "end_time": "2020-03-25T12:43:21.677998Z",
     "start_time": "2020-03-25T12:43:21.656759Z"
    }
   },
   "outputs": [
    {
     "name": "stdout",
     "output_type": "stream",
     "text": [
      "Top 5 profiles with highest number of followers: \n",
      "0. foodnetwork: 10131031\n",
      "1. yourfoodlab: 907814\n",
      "2. dilsefoodie: 369544\n",
      "3. foodtalkindia: 292617\n",
      "4. food: 292617\n"
     ]
    }
   ],
   "source": [
    "# handles\n",
    "print(\"Top 5 profiles with highest number of followers: \")\n",
    "d = sorted(followers.items(),key=lambda x:x[1],reverse=True)[:5]\n",
    "for i,t in enumerate(d):\n",
    "    print(\"{}. {}: {}\".format(i+1,t[0],t[1]))"
   ]
  }
 ],
 "metadata": {
  "kernelspec": {
   "display_name": "Python 3",
   "language": "python",
   "name": "python3"
  },
  "language_info": {
   "codemirror_mode": {
    "name": "ipython",
    "version": 3
   },
   "file_extension": ".py",
   "mimetype": "text/x-python",
   "name": "python",
   "nbconvert_exporter": "python",
   "pygments_lexer": "ipython3",
   "version": "3.7.6"
  },
  "toc": {
   "base_numbering": 1,
   "nav_menu": {},
   "number_sections": true,
   "sideBar": true,
   "skip_h1_title": false,
   "title_cell": "Table of Contents",
   "title_sidebar": "Contents",
   "toc_cell": false,
   "toc_position": {},
   "toc_section_display": true,
   "toc_window_display": false
  }
 },
 "nbformat": 4,
 "nbformat_minor": 2
}
