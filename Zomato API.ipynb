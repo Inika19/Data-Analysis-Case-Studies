{
 "cells": [
  {
   "cell_type": "code",
   "execution_count": 1,
   "metadata": {
    "ExecuteTime": {
     "end_time": "2019-10-28T08:52:54.331898Z",
     "start_time": "2019-10-28T08:52:53.763830Z"
    }
   },
   "outputs": [],
   "source": [
    "import requests\n",
    "import json"
   ]
  },
  {
   "cell_type": "markdown",
   "metadata": {},
   "source": [
    "### Mexican cuisine began about 9,000 years ago, when agricultural communities such as the Maya formed, domesticating maize, creating the standard process of corn nixtamalization, and establishing their foodways.\n",
    "You are a huge fan of ‘Mexican’ cuisine. Now using the Zomato API you want to analyse the best restaurant serving the Mexican Cuisine, their locations, and cost for two, etc.\n",
    "There is a list of questions related to Mexican cuisines given in the next section."
   ]
  },
  {
   "cell_type": "markdown",
   "metadata": {},
   "source": [
    "##### Fetch the cuisine_id of ‘Mexican’ cuisine using Zomato API.\n",
    "73"
   ]
  },
  {
   "cell_type": "code",
   "execution_count": 19,
   "metadata": {
    "ExecuteTime": {
     "end_time": "2019-10-28T09:08:13.355964Z",
     "start_time": "2019-10-28T09:08:13.061757Z"
    }
   },
   "outputs": [
    {
     "name": "stdout",
     "output_type": "stream",
     "text": [
      "73\n"
     ]
    }
   ],
   "source": [
    "h = {'Accept': 'application/json', 'user-key': '9b6ef20168ee91ceb7266b75c616b920'}\n",
    "r = requests.get('https://developers.zomato.com/api/v2.1/cuisines?city_id=280', headers= h) # cuisines in NYC\n",
    "data = r.json()\n",
    "# r.status_code\n",
    "\n",
    "cuisines  = data['cuisines']\n",
    "for cuisine in cuisines:\n",
    "    if cuisine['cuisine']['cuisine_name']=='Mexican':\n",
    "        print(cuisine['cuisine']['cuisine_id'])\n",
    "        break"
   ]
  },
  {
   "cell_type": "code",
   "execution_count": 13,
   "metadata": {
    "ExecuteTime": {
     "end_time": "2019-10-28T09:04:42.939528Z",
     "start_time": "2019-10-28T09:04:42.932516Z"
    }
   },
   "outputs": [],
   "source": [
    "# header = r.headers\n",
    "# for h in header:\n",
    "#     print(h,\" : \",header[h])\n",
    "#     print(\"----------------------------------------------------------------------------------\")"
   ]
  },
  {
   "cell_type": "markdown",
   "metadata": {},
   "source": [
    "##### Fetch the entityid and entitytype of place Connaught Place.\n",
    "Print the entityid and entitytype,"
   ]
  },
  {
   "cell_type": "code",
   "execution_count": 22,
   "metadata": {
    "ExecuteTime": {
     "end_time": "2019-10-28T09:11:32.167936Z",
     "start_time": "2019-10-28T09:11:30.759148Z"
    }
   },
   "outputs": [
    {
     "name": "stdout",
     "output_type": "stream",
     "text": [
      "104 subzone\n"
     ]
    }
   ],
   "source": [
    "h = {'Accept': 'application/json', 'user-key': '9b6ef20168ee91ceb7266b75c616b920'}\n",
    "r = requests.get('https://developers.zomato.com/api/v2.1/locations?query=Connaught', headers = h)\n",
    "data = r.json()['location_suggestions'][0]\n",
    "print(data['entity_id'],data['entity_type'])"
   ]
  },
  {
   "cell_type": "markdown",
   "metadata": {},
   "source": [
    "##### Fetch the top 10 best-rated restaurant serving ‘Mexican’ cuisine present in Connaught Place.\n",
    "Print the restaurant name, user rating and restaurant id."
   ]
  },
  {
   "cell_type": "code",
   "execution_count": 35,
   "metadata": {
    "ExecuteTime": {
     "end_time": "2019-10-28T10:47:29.374949Z",
     "start_time": "2019-10-28T10:47:28.444308Z"
    }
   },
   "outputs": [],
   "source": [
    "# https://developers.zomato.com/api/v2.1/search?entity_id=104&cuisines=73&sort=rating\n",
    "h = {'Accept': 'application/json', 'user-key': '9b6ef20168ee91ceb7266b75c616b920'}\n",
    "r = requests.get('https://developers.zomato.com/api/v2.1/search?entity_id=104&entity_type=subzone&count=10&cuisines=73&sort=rating&order=desc',\n",
    "                 headers = h)\n",
    "data = r.json()['restaurants']"
   ]
  },
  {
   "cell_type": "code",
   "execution_count": 51,
   "metadata": {
    "ExecuteTime": {
     "end_time": "2019-10-28T10:52:05.431662Z",
     "start_time": "2019-10-28T10:52:05.420182Z"
    }
   },
   "outputs": [
    {
     "name": "stdout",
     "output_type": "stream",
     "text": [
      "38 Barracks 4.8 18241537\n",
      "Odeon Social 4.7 18246991\n",
      "Ministry Of Beer 4.7 18418277\n",
      "Chili's Grill & Bar 4.6 18537536\n",
      "Station Bar 4.6 18851371\n",
      "The Junkyard Cafe 4.6 313256\n",
      "Detroit 4.5 18625812\n",
      "Unplugged Courtyard 4.5 18216901\n",
      "Xero Degrees 4.5 18729557\n",
      "Tamasha 4.4 18238278\n"
     ]
    }
   ],
   "source": [
    "# data[0]['restaurant']['name']\n",
    "for r in data:\n",
    "    re = r['restaurant']\n",
    "    print(re['name'], re['user_rating']['aggregate_rating'], re['id'])"
   ]
  },
  {
   "cell_type": "markdown",
   "metadata": {
    "ExecuteTime": {
     "end_time": "2019-10-28T10:51:59.203411Z",
     "start_time": "2019-10-28T10:51:59.194214Z"
    }
   },
   "source": [
    "##### Fetch the category id of category type ‘Cafes’ using Zomato API.\n",
    "Print the category_id."
   ]
  },
  {
   "cell_type": "code",
   "execution_count": 55,
   "metadata": {
    "ExecuteTime": {
     "end_time": "2019-10-28T10:54:30.408473Z",
     "start_time": "2019-10-28T10:54:30.201456Z"
    }
   },
   "outputs": [],
   "source": [
    "# https://developers.zomato.com/api/v2.1/categories\n",
    "h = {'Accept': 'application/json', 'user-key': '9b6ef20168ee91ceb7266b75c616b920'}\n",
    "r = requests.get('https://developers.zomato.com/api/v2.1/categories',\n",
    "                 headers = h)\n",
    "data = r.json()['categories']"
   ]
  },
  {
   "cell_type": "code",
   "execution_count": 58,
   "metadata": {
    "ExecuteTime": {
     "end_time": "2019-10-28T10:55:33.392630Z",
     "start_time": "2019-10-28T10:55:33.386279Z"
    }
   },
   "outputs": [
    {
     "name": "stdout",
     "output_type": "stream",
     "text": [
      "6\n"
     ]
    }
   ],
   "source": [
    "for category in data:\n",
    "    c = category['categories']\n",
    "    if c['name']=='Cafes':\n",
    "        print(c['id'])\n",
    "        break"
   ]
  },
  {
   "cell_type": "markdown",
   "metadata": {},
   "source": [
    "##### Fetch the best-rated restaurant for ‘Mexican’ cuisine with category type ‘ Cafes’ present in Connaught Place using Zomato API.\n",
    "Print the restaurant name, user rating and restaurant id."
   ]
  },
  {
   "cell_type": "code",
   "execution_count": 67,
   "metadata": {
    "ExecuteTime": {
     "end_time": "2019-10-28T11:04:41.832738Z",
     "start_time": "2019-10-28T11:04:40.956999Z"
    }
   },
   "outputs": [],
   "source": [
    "url = 'https://developers.zomato.com/api/v2.1/search?entity_id=104&entity_type=subzone&count=10&cuisines=73&category=6&sort=rating&order=desc'\n",
    "h = {'Accept': 'application/json', 'user-key': '9b6ef20168ee91ceb7266b75c616b920'}\n",
    "r = requests.get(url, headers = h)\n",
    "data = r.json()['restaurants']"
   ]
  },
  {
   "cell_type": "code",
   "execution_count": 68,
   "metadata": {
    "ExecuteTime": {
     "end_time": "2019-10-28T11:04:42.660344Z",
     "start_time": "2019-10-28T11:04:42.637739Z"
    }
   },
   "outputs": [
    {
     "name": "stdout",
     "output_type": "stream",
     "text": [
      "38 Barracks 4.8 18241537\n",
      "Xero Degrees 4.5 18729557\n",
      "Chaayos 4.1 18237315\n",
      "Cafe Delhi Heights 4.1 18579363\n",
      "The Art House Bar n Cafe 3.9 18863766\n",
      "Cafe Coffee Day - The Square 3.8 303034\n"
     ]
    }
   ],
   "source": [
    "for r in data:\n",
    "    re = r['restaurant']\n",
    "    print(re['name'], re['user_rating']['aggregate_rating'], re['id'])"
   ]
  },
  {
   "cell_type": "markdown",
   "metadata": {},
   "source": [
    "##### Fetch 5 latest reviews of the best-rated restaurant for ‘Mexican’ cuisine with Category type ‘Cafes’ present in Connaught Place using Zomato API.\n",
    "Print the name of user ,user rating and review text.\n",
    "Note :\n",
    "Due to limitation of basic API plan it, can only fetch 5 latest review"
   ]
  },
  {
   "cell_type": "code",
   "execution_count": 78,
   "metadata": {
    "ExecuteTime": {
     "end_time": "2019-10-28T11:12:09.481126Z",
     "start_time": "2019-10-28T11:12:08.941798Z"
    }
   },
   "outputs": [],
   "source": [
    "url = 'https://developers.zomato.com/api/v2.1/reviews?res_id=18241537'\n",
    "h = {'Accept': 'application/json', 'user-key': '9b6ef20168ee91ceb7266b75c616b920'}\n",
    "r = requests.get(url, headers = h)\n",
    "data = r.json()['user_reviews']"
   ]
  },
  {
   "cell_type": "code",
   "execution_count": 80,
   "metadata": {
    "ExecuteTime": {
     "end_time": "2019-10-28T11:12:21.558953Z",
     "start_time": "2019-10-28T11:12:21.546427Z"
    }
   },
   "outputs": [
    {
     "name": "stdout",
     "output_type": "stream",
     "text": [
      "Khana प्लीज़ 5 My friend dragged me to this place for a dinner last weekend and I must say I wasn't disappointed.The ambiance and live music was a perfect end to my week.We ordered Dahi k kabab and Fries and they were just how they need to be.All in all this place can be your next weekend place to have a great night\n",
      "Fire Foodie 5 Last night having dinner outside in CP heart of delhi . It was great place for having food there as the atmosphere of the restaurant was so comfortable. Lovr to order Mirchi pakoda - awsome . Apple crumble pie - nice in taste . Veg club sandwich - awsoem Service was good . Staff was polite and respectful Price was good.\n",
      "Suvam Gupta 5 A few days ago me and some friend went to this place ...itis a nice place to hang out......the ambience is nice... I had:- crispy honey chilli potato veg fried rice the taste of the food is awesome..the quality and quantity of the food is sufficient....ovareall a very good experience....overall visite again\n",
      "Harsimran Kaur 5 I ordered dahi ke kebab and nachos from the place, and loved every bite. Kebab were very creamy and flavourful. And nachos were also a treat. The delivery came in Quick and the packaging was neatly done as well.\n",
      "Cris Jackbottom 5 Me and my college friends went to this restaurant to celebrate the end of college exams. We ordered honey chilli potatoes , chilli chicken, momos etc and they all were incredible. Specially chilli chicken which was just amazing. Staff was super fast in preparing food and the quality of crowd was amazing too. Other thing that I liked about it is the incredible ambience the restaurant had. Overall our experience was just amazing.\n"
     ]
    }
   ],
   "source": [
    "#name, rating, review\n",
    "for r in data:\n",
    "    r = r['review']\n",
    "    review = r['review_text']\n",
    "    rating = r['rating']\n",
    "    name = r['user']['name']\n",
    "    print(name, rating,review)"
   ]
  },
  {
   "cell_type": "markdown",
   "metadata": {},
   "source": [
    "### Problem 2\n",
    "736 AD is Brick-walled lounge bar serving international dishes and a range of cocktails and shooters.\n",
    "You have heard from your friends that restaurant 736 A.D is quite good. So Now you want to extract the information related to restaurant 736 A.D using Zomato API.\n",
    "There is a list of questions related to restaurant 736 AD given in the next section."
   ]
  },
  {
   "cell_type": "markdown",
   "metadata": {},
   "source": [
    "##### Fetch the details of restaurant 736 AD using Zomato API.\n",
    "Print the user rating, average cost for two, cuisines and address of 736 AD."
   ]
  },
  {
   "cell_type": "code",
   "execution_count": 98,
   "metadata": {
    "ExecuteTime": {
     "end_time": "2019-10-28T11:28:06.297354Z",
     "start_time": "2019-10-28T11:28:05.892844Z"
    }
   },
   "outputs": [
    {
     "name": "stdout",
     "output_type": "stream",
     "text": [
      "18241524\n"
     ]
    }
   ],
   "source": [
    "# find id for restaurant 736 AD from search\n",
    "url = 'https://developers.zomato.com/api/v2.1/search?q=736&count=5&order=desc'\n",
    "h = {'Accept': 'application/json', 'user-key': '9b6ef20168ee91ceb7266b75c616b920'}\n",
    "r = requests.get(url, headers = h)\n",
    "data = r.json()['restaurants']\n",
    "\n",
    "for d in data:\n",
    "    d = d['restaurant']\n",
    "    if d['name'] == '736 A.D.':\n",
    "        resid = d['id']\n",
    "        break\n",
    "print(resid)"
   ]
  },
  {
   "cell_type": "code",
   "execution_count": 102,
   "metadata": {
    "ExecuteTime": {
     "end_time": "2019-10-28T11:31:02.334965Z",
     "start_time": "2019-10-28T11:31:01.918225Z"
    }
   },
   "outputs": [
    {
     "name": "stdout",
     "output_type": "stream",
     "text": [
      "4.1\n",
      "1400\n",
      "North Indian, Continental, Italian, Chinese, Momos\n",
      "G-15/B, Vijay Nagar, New Delhi\n"
     ]
    }
   ],
   "source": [
    "# resID 18241524\n",
    "url = 'https://developers.zomato.com/api/v2.1/restaurant?res_id='+resid\n",
    "h = {'Accept': 'application/json', 'user-key': '9b6ef20168ee91ceb7266b75c616b920'}\n",
    "r = requests.get(url, headers = h)\n",
    "data = r.json()\n",
    "\n",
    "print(data['user_rating']['aggregate_rating'])\n",
    "print(data['average_cost_for_two'])\n",
    "print(data['cuisines'])\n",
    "print(data['location']['address'])"
   ]
  },
  {
   "cell_type": "markdown",
   "metadata": {},
   "source": [
    "##### Find out whether online table reservation is supported in 736 AD or not using Zomato API.\n",
    "Print 'yes' if online table reservation is supported else 'no'\n",
    "Note :\n",
    "In Zomato response JSON. 1=Yes and 0 = No"
   ]
  },
  {
   "cell_type": "code",
   "execution_count": 106,
   "metadata": {
    "ExecuteTime": {
     "end_time": "2019-10-28T11:33:10.708973Z",
     "start_time": "2019-10-28T11:33:10.687099Z"
    },
    "scrolled": false
   },
   "outputs": [
    {
     "name": "stdout",
     "output_type": "stream",
     "text": [
      "Yes\n"
     ]
    }
   ],
   "source": [
    "val = data['is_table_reservation_supported']\n",
    "if val == 1:\n",
    "    print('Yes')\n",
    "else:\n",
    "    print(\"No\")"
   ]
  },
  {
   "cell_type": "markdown",
   "metadata": {},
   "source": [
    "##### Fetch the latest review of restaurant 736 AD using Zomato API.\n",
    "Print the name of user ,user rating and review text.\n",
    "Note :\n",
    "Due to limitation of basic API plan, it can only fetch 5 latest review"
   ]
  },
  {
   "cell_type": "code",
   "execution_count": 107,
   "metadata": {
    "ExecuteTime": {
     "end_time": "2019-10-28T11:35:53.000463Z",
     "start_time": "2019-10-28T11:35:52.781201Z"
    }
   },
   "outputs": [
    {
     "name": "stdout",
     "output_type": "stream",
     "text": [
      "Amol Sirohi 2 We had the Schezwan Momos here and to my surprise, they served us simple Momos in the name of schezwan Momo's. Neither they had any flavour nor they were spicy.\n",
      "Rajiv Pal 1 The staff here does not listen to the customers, music is too loud to let you do any conversation and the food is pathetic in taste here.\n",
      "Kashit Chawla 3 \n",
      "Apoorva Punjani 5 A best place for having lunch or dinner with friends and family. Food is amazing and ambience is so cozy. Had some amazing dishes like spring rolls, chicken tikka, tawa chicken, dal makhni, pasta and so much more. But the dish that stole my heart was Dal Makhni. Ohhh I am giving 5🌟 to this cafe for such amazing food and ambience. A must visit place if you're a true foodie.\n",
      "Bhavna 4 Me and my friends were visited there .we had ordered masala papad ,chilly paneer white sauce pasta garlic bread . All were very good and tasty paneer was very soft and it filled us up very soon .  And the best part of 736 was hookah it was very nice yaa it was expensive but worth it .  But service was bit slow maybe it because of over crowd there but overall It was a nice experience we spent nice time there .  We’ll surely come back and expect fast service although they had a very good food\n"
     ]
    }
   ],
   "source": [
    "url = 'https://developers.zomato.com/api/v2.1/reviews?res_id=18241524'\n",
    "h = {'Accept': 'application/json', 'user-key': '9b6ef20168ee91ceb7266b75c616b920'}\n",
    "r = requests.get(url, headers = h)\n",
    "data = r.json()['user_reviews']\n",
    "#name, rating, review\n",
    "for r in data:\n",
    "    r = r['review']\n",
    "    review = r['review_text']\n",
    "    rating = r['rating']\n",
    "    name = r['user']['name']\n",
    "    print(name, rating,review)"
   ]
  },
  {
   "cell_type": "markdown",
   "metadata": {},
   "source": [
    "### Distance is also a very important factor while selecting a restaurant. Suppose you are at Coding Ninjas and you want to select the restaurant which is near to you using Zomato API.\n",
    "Note down the latitude and longitude of Coding Ninjas using Google Maps\n",
    "There is a list of questions related to restaurant near me given in the next section."
   ]
  },
  {
   "cell_type": "markdown",
   "metadata": {},
   "source": [
    "##### Fetch the cuisine_id of of cuisine ‘BBQ’ using Zomato API.\n",
    "Print the cuisine_id"
   ]
  },
  {
   "cell_type": "code",
   "execution_count": 108,
   "metadata": {
    "ExecuteTime": {
     "end_time": "2019-10-28T11:40:38.062391Z",
     "start_time": "2019-10-28T11:40:37.493457Z"
    }
   },
   "outputs": [
    {
     "name": "stdout",
     "output_type": "stream",
     "text": [
      "193\n"
     ]
    }
   ],
   "source": [
    "h = {'Accept': 'application/json', 'user-key': '9b6ef20168ee91ceb7266b75c616b920'}\n",
    "r = requests.get('https://developers.zomato.com/api/v2.1/cuisines?city_id=280', headers= h) # cuisines in NYC\n",
    "data = r.json()\n",
    "# r.status_code\n",
    "\n",
    "cuisines  = data['cuisines']\n",
    "for cuisine in cuisines:\n",
    "    if cuisine['cuisine']['cuisine_name']=='BBQ':\n",
    "        print(cuisine['cuisine']['cuisine_id'])\n",
    "        break"
   ]
  },
  {
   "cell_type": "markdown",
   "metadata": {},
   "source": [
    "##### Fetch the list of the top 10 restaurants serving cuisine ‘BBQ’ which are nearest to Coding Ninjas.\n",
    "Print the restaurant name, user rating, restaurant id and locality in which restaurant is present."
   ]
  },
  {
   "cell_type": "code",
   "execution_count": 125,
   "metadata": {
    "ExecuteTime": {
     "end_time": "2019-10-28T12:09:05.661241Z",
     "start_time": "2019-10-28T12:09:04.155010Z"
    }
   },
   "outputs": [],
   "source": [
    "# 28.697513,77.1384332 CN coordinates\n",
    "url = 'https://developers.zomato.com/api/v2.1/search?count=10&lat=28.697513&lon=77.1384332&radius=4000&cuisines=193&sort=real_distance&order=asc'\n",
    "h = {'Accept': 'application/json', 'user-key': '9b6ef20168ee91ceb7266b75c616b920'}\n",
    "r = requests.get(url, headers= h) # cuisines in NYC\n",
    "data = r.json()['restaurants']"
   ]
  },
  {
   "cell_type": "code",
   "execution_count": 126,
   "metadata": {
    "ExecuteTime": {
     "end_time": "2019-10-28T12:09:06.331439Z",
     "start_time": "2019-10-28T12:09:06.320549Z"
    },
    "scrolled": false
   },
   "outputs": [
    {
     "name": "stdout",
     "output_type": "stream",
     "text": [
      "Themis Barbecue House 4.6 18204820 Netaji Subhash Place\n",
      "Barbeque Nation 4.2 9561 Netaji Subhash Place\n",
      "New Bombay Bar-Be-Que 3.5 5303 Prashant Vihar\n",
      "Changezi Bar-be-que & Mughlai 0 19050115 Rohini\n",
      "Wow! Chicken 0 18998624 Rohini\n",
      "Picnick Scooter Cafe 0 19149978 Punjabi Bagh\n",
      "Chicken Adda 0 19179179 Rohini\n",
      "7teen BBQ Bistro Bnq 3.8 18595610 Moti Nagar\n",
      "Pishori Chicken 0 19061375 Kirti Nagar\n",
      "Pishori Chicken Shop 0 19179356 Rajouri Garden\n"
     ]
    }
   ],
   "source": [
    "for d in data:\n",
    "    d=d['restaurant']\n",
    "    name = d['name']\n",
    "    local = d['location']['locality']\n",
    "    resid = d['id']\n",
    "    rating = d['user_rating']['aggregate_rating']\n",
    "    print(name,rating,resid,local)"
   ]
  },
  {
   "cell_type": "markdown",
   "metadata": {},
   "source": [
    "##### Fetch the latest review of the restaurant serving cuisine ‘BBQ’ which is most nearest to Coding ninjas?\n",
    "Print the name of user ,user rating and review text."
   ]
  },
  {
   "cell_type": "code",
   "execution_count": 120,
   "metadata": {
    "ExecuteTime": {
     "end_time": "2019-10-28T11:56:38.348157Z",
     "start_time": "2019-10-28T11:56:38.002942Z"
    }
   },
   "outputs": [
    {
     "name": "stdout",
     "output_type": "stream",
     "text": [
      "Somenath Chattaraj 1 \n",
      "Foodieeee 5 Themis barbecue house is the my all time favourite place to go hang out with friends and family. Environment is really nice and healthy . Staff is very humble and cooperative And their services are commendable. And yeah it's really worth paying money. And what should I say about their amazingly amazing food..... it is out of the world. Ordered : Achari Paneer Tikka, Shabnam ki moti Grilled pineapple with cinnamon sauce, corn salt and pepper Angara murgh Tikka Afghani murgh tikka Peri Peri prawns and grill fish In main course Mutton Rogan Josh, murgh jo sinha, Hy murgh dum biriyani, paneer kurchan and Singapore noodles In dessert Gulab jamun, moong ki daal ka halwa, red velvet cake and brownie with ice cream And I must say everything was remarkable. They didn't give me a single chance to get disappoint.\n",
      "Abhishek ✔ 5 Yesterday I visited here with office friends for the meetings My experience was so amazing Food was so delicious Ambiance and environment was lovely I always prefer to seating outdoors In the open environment u can feel fresh  Must try Panner tikka chicken lollipops Chicken tikka Pizza Pasta In the main course buffet system so you can try all the things  All desert was so yummy must try  Food 5/5 Ambiance 4/5 Service 4/5  Must reccomend place\n",
      "Sumit 5 Thamis barbecue is best place for dinner with family so Yesterday I go here with family and enjoying at lots off  Lovely ambiance with great service,staff is well manner speakes in the polite ways  I always suggest to must try In mocktails - Strawberry mocktail Kewi mocktail  In stater - Crispy corn Chicken lollipops Fish tikka Prowns ChessyPanner etc  In main courses - Mutton taara corma with garlic naan  In desert variety is to must - Gulab jamun ice cream pastries mini balushahi Kulfi etc  Highly recommend place Try to visit again as soon as possible\n",
      "Nitin Choudhary 5 It was a memorable experience of mine at Themis barbeque. Talking about there ambience it was lavish give you a royal feeling and there buffet is huge starting with a unlimited snacks experience which have pizza , pasta , grills , Chaat , corn bhel , kebabs and tikki it's give us a wonderful inviting experience.  Coming on to there main course they have mainly Indian dishes like dal makhani, paneer , kadi pokoda , rajma , pulao and singapuri noodles in Chinese lovely spread of Indian buffet they have.  And after that they have dessert counters where again around 12 to 13 desserts are in display.  One can enjoy the live screening of matches on sports channel which they are displaying.  Coming on to service they have a warm and prompt staff who take care of all your need very promptly.  Will be certainly be back for more.\n"
     ]
    }
   ],
   "source": [
    "url = 'https://developers.zomato.com/api/v2.1/reviews?res_id=18204820'\n",
    "h = {'Accept': 'application/json', 'user-key': '9b6ef20168ee91ceb7266b75c616b920'}\n",
    "r = requests.get(url, headers = h)\n",
    "data = r.json()['user_reviews']\n",
    "\n",
    "#name, rating, review\n",
    "for r in data:\n",
    "    r = r['review']\n",
    "    review = r['review_text']\n",
    "    rating = r['rating']\n",
    "    name = r['user']['name']\n",
    "    print(name, rating,review)"
   ]
  },
  {
   "cell_type": "markdown",
   "metadata": {},
   "source": [
    "##### Experiment with the radius parameter that is present in ‘GET/search’. Fetch the list of top 10 best-restaurant present in a radius of 4 km of coding ninjas.\n",
    "Print the restaurant name, user rating, restaurant id and locality in which restaurant is present."
   ]
  },
  {
   "cell_type": "code",
   "execution_count": 128,
   "metadata": {
    "ExecuteTime": {
     "end_time": "2019-10-28T12:11:09.259221Z",
     "start_time": "2019-10-28T12:11:08.296095Z"
    }
   },
   "outputs": [
    {
     "name": "stdout",
     "output_type": "stream",
     "text": [
      "Dragonfly Experience 4.9 18896889 Worldmark 1, Aerocity\n",
      "POMP - Pizza On My Plate 4.9 18662565 Greater Kailash 1 (GK1)\n",
      "Chili's Grill & Bar 4.9 4751 Ambience Mall, Vasant Kunj\n",
      "Dana Choga 4.9 549 Sector 14\n",
      "Plum by Bent Chair 4.9 19142382 Janpath\n",
      "Ah So Yum 4.9 18945610 Golf Course Road\n",
      "The Yellow Chilli 4.9 1345 Pacific Mall, Sahibabad\n",
      "Feel Alive 4.9 18418247 Sector 29\n",
      "Chili's Grill & Bar 4.9 18607069 Pacific Mall, Tagore Garden\n",
      "Fat Albert 4.9 19121180 Sector 12, Dwarka\n"
     ]
    }
   ],
   "source": [
    "url = 'https://developers.zomato.com/api/v2.1/search?count=10&lat=28.697513&lon=77.1384332&radius=4000&sort=rating&order=desc'\n",
    "h = {'Accept': 'application/json', 'user-key': '9b6ef20168ee91ceb7266b75c616b920'}\n",
    "r = requests.get(url, headers = h)\n",
    "data = r.json()['restaurants']\n",
    "for d in data:\n",
    "    d=d['restaurant']\n",
    "    name = d['name']\n",
    "    local = d['location']['locality']\n",
    "    resid = d['id']\n",
    "    rating = d['user_rating']['aggregate_rating']\n",
    "    print(name,rating,resid,local)"
   ]
  },
  {
   "cell_type": "code",
   "execution_count": null,
   "metadata": {},
   "outputs": [],
   "source": []
  }
 ],
 "metadata": {
  "kernelspec": {
   "display_name": "Python 3",
   "language": "python",
   "name": "python3"
  },
  "language_info": {
   "codemirror_mode": {
    "name": "ipython",
    "version": 3
   },
   "file_extension": ".py",
   "mimetype": "text/x-python",
   "name": "python",
   "nbconvert_exporter": "python",
   "pygments_lexer": "ipython3",
   "version": "3.7.6"
  },
  "toc": {
   "base_numbering": 1,
   "nav_menu": {},
   "number_sections": true,
   "sideBar": true,
   "skip_h1_title": false,
   "title_cell": "Table of Contents",
   "title_sidebar": "Contents",
   "toc_cell": false,
   "toc_position": {},
   "toc_section_display": true,
   "toc_window_display": false
  }
 },
 "nbformat": 4,
 "nbformat_minor": 2
}
