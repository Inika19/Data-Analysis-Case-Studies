{
 "cells": [
  {
   "cell_type": "code",
   "execution_count": 1,
   "metadata": {
    "ExecuteTime": {
     "end_time": "2020-02-13T18:08:06.287906Z",
     "start_time": "2020-02-13T18:08:04.633859Z"
    }
   },
   "outputs": [],
   "source": [
    "import sqlite3\n",
    "import pandas as pd"
   ]
  },
  {
   "cell_type": "code",
   "execution_count": 2,
   "metadata": {
    "ExecuteTime": {
     "end_time": "2020-02-13T18:08:06.857969Z",
     "start_time": "2020-02-13T18:08:06.841570Z"
    }
   },
   "outputs": [],
   "source": [
    "db = sqlite3.connect('IMDB.sqlite')\n",
    "df = pd.read_sql_query('select * from genre', db)\n",
    "# df"
   ]
  },
  {
   "cell_type": "markdown",
   "metadata": {},
   "source": [
    "##### Print no of movies by genre"
   ]
  },
  {
   "cell_type": "code",
   "execution_count": 4,
   "metadata": {
    "ExecuteTime": {
     "end_time": "2020-02-13T18:08:18.845720Z",
     "start_time": "2020-02-13T18:08:18.837189Z"
    }
   },
   "outputs": [],
   "source": [
    "c = db.cursor()\n",
    "c.execute('select genre, count(*) from genre group by genre')\n",
    "ans = c.fetchall()"
   ]
  },
  {
   "cell_type": "code",
   "execution_count": 8,
   "metadata": {
    "ExecuteTime": {
     "end_time": "2019-10-24T13:55:00.165956Z",
     "start_time": "2019-10-24T13:55:00.148458Z"
    }
   },
   "outputs": [
    {
     "name": "stdout",
     "output_type": "stream",
     "text": [
      "Action 33\n",
      "Adventure 43\n",
      "Animation 13\n",
      "Biography 21\n",
      "Comedy 31\n",
      "Crime 11\n",
      "Drama 77\n",
      "Family 3\n",
      "Fantasy 7\n",
      "History 6\n",
      "Horror 2\n",
      "Music 3\n",
      "Musical 1\n",
      "Mystery 7\n",
      "Romance 13\n",
      "Sci-Fi 18\n",
      "Sport 3\n",
      "Thriller 14\n",
      "War 2\n",
      "Western 2\n"
     ]
    }
   ],
   "source": [
    "for t in ans:\n",
    "    if t[0]!='':\n",
    "        print(t[0],t[1])"
   ]
  },
  {
   "cell_type": "markdown",
   "metadata": {},
   "source": [
    "##### Find the highest-grossing movie (i.e domestic earning + worldwide earning) in IMDB database.\n",
    "Print the rating of that movie."
   ]
  },
  {
   "cell_type": "code",
   "execution_count": 163,
   "metadata": {
    "ExecuteTime": {
     "end_time": "2019-10-24T15:49:16.282367Z",
     "start_time": "2019-10-24T15:49:16.262388Z"
    }
   },
   "outputs": [
    {
     "name": "stdout",
     "output_type": "stream",
     "text": [
      "8.1\n"
     ]
    }
   ],
   "source": [
    "df = pd.read_sql_query('select a.Movie_id,Title,Rating,Domestic,Worldwide from earning a inner join imdb b where a.Movie_id = b.Movie_id',db)\n",
    "df['Total'] = df.Domestic + df.Worldwide\n",
    "print(list(df[df.Total == df.Total.max()]['Rating'])[0])"
   ]
  },
  {
   "cell_type": "code",
   "execution_count": 152,
   "metadata": {
    "ExecuteTime": {
     "end_time": "2019-10-24T15:45:37.818154Z",
     "start_time": "2019-10-24T15:45:37.784921Z"
    }
   },
   "outputs": [
    {
     "data": {
      "text/plain": [
       "8.1"
      ]
     },
     "execution_count": 152,
     "metadata": {},
     "output_type": "execute_result"
    }
   ],
   "source": [
    "df = pd.read_sql_query('select * from earning',db)\n",
    "df['total'] = df['Domestic'] + df['Worldwide']\n",
    "\n",
    "ID = df[df.total == df.total.max()]['Movie_id']\n",
    "ID = list(ID)[0]\n",
    "ID\n",
    "\n",
    "c.execute('select rating from imdb where Movie_id = ?',(ID, ))\n",
    "c.fetchall()[0][0]"
   ]
  },
  {
   "cell_type": "markdown",
   "metadata": {},
   "source": [
    "##### Find the most voted movie in IMDB Movie Database. Print the movie name and the rating of that movie."
   ]
  },
  {
   "cell_type": "code",
   "execution_count": 71,
   "metadata": {
    "ExecuteTime": {
     "end_time": "2019-10-24T14:54:01.219299Z",
     "start_time": "2019-10-24T14:54:01.182557Z"
    }
   },
   "outputs": [
    {
     "name": "stdout",
     "output_type": "stream",
     "text": [
      "46824 Inception (2010) 8.8\n"
     ]
    }
   ],
   "source": [
    "df = pd.read_sql_query('select * from imdb',db)\n",
    "row = df[df['TotalVotes'] == df['TotalVotes'].max()]\n",
    "ID = list(row['Movie_id'])[0]\n",
    "rating = list(row['Rating'])[0]\n",
    "name = list(row['Title'])[0]\n",
    "print(ID,name,rating)\n"
   ]
  },
  {
   "cell_type": "markdown",
   "metadata": {},
   "source": [
    "Q. Find the Movie with Longest-Running Time from IMDB Movie database.\n",
    "Print the name of movie and running time as integer value.\n",
    "Note: Don't print 'min' in running time."
   ]
  },
  {
   "cell_type": "code",
   "execution_count": 118,
   "metadata": {
    "ExecuteTime": {
     "end_time": "2019-10-24T15:19:03.877404Z",
     "start_time": "2019-10-24T15:19:03.805236Z"
    }
   },
   "outputs": [
    {
     "name": "stdout",
     "output_type": "stream",
     "text": [
      "The Wolf of Wall Street (2013) 180\n"
     ]
    }
   ],
   "source": [
    "df = pd.read_sql_query('select * from imdb',db)\n",
    "# df['length']=0\n",
    "max_length = 0\n",
    "for _,row in df[df['Runtime'].notnull()].iterrows():\n",
    "#     print(row['Movie_id'])\n",
    "    x = row['Runtime'].split()\n",
    "    if len(x)!=0:\n",
    "        length = int(x[0])\n",
    "        if length > max_length:\n",
    "            max_length = length\n",
    "            name = row['Title']\n",
    "#             ID = row['Movie_id']\n",
    "\n",
    "print(name,max_length)"
   ]
  },
  {
   "cell_type": "markdown",
   "metadata": {
    "ExecuteTime": {
     "end_time": "2019-10-24T15:18:39.083433Z",
     "start_time": "2019-10-24T15:18:39.067418Z"
    }
   },
   "source": [
    "#####  Find the movie which has maximum net profit in IMDB Movie Database.\n",
    "Print the movie name.\n",
    "Note: Net Profit= Total Earning(Domestic+WorldWide earning) - budget"
   ]
  },
  {
   "cell_type": "code",
   "execution_count": 8,
   "metadata": {
    "ExecuteTime": {
     "end_time": "2020-02-13T18:09:29.802366Z",
     "start_time": "2020-02-13T18:09:29.779735Z"
    }
   },
   "outputs": [
    {
     "name": "stdout",
     "output_type": "stream",
     "text": [
      "Star Wars: The Force Awakens (2015)\n"
     ]
    }
   ],
   "source": [
    "df = pd.read_sql_query('select a.Movie_id,Domestic,Worldwide,budget from IMDB as a inner join earning as b where a.Movie_id = b.Movie_id', db)\n",
    "df[['Budget']] = df[['Budget']].apply(pd.to_numeric)\n",
    "df['NetProfit'] = df['Domestic']+df['Worldwide']-df['Budget']\n",
    "ID = list(df[df['NetProfit'] == df['NetProfit'].max()]['Movie_id'])[0]\n",
    "# df = pd.read_sql_query('select Title from IMDB where Movie_id = ?',(ID,))\n",
    "c.execute('select Title from IMDB where Movie_id = ?',(ID, ))\n",
    "print(c.fetchall()[0][0])"
   ]
  },
  {
   "cell_type": "markdown",
   "metadata": {},
   "source": [
    "##### Find the least budgeted movie in IMDB Movie Database.\n",
    "If there is more than one least budgeted movies then print the movie which has maximum net profit.\n",
    "Note: Net Profit= Total Earning(Domestic+WorldWide earning) - budget"
   ]
  },
  {
   "cell_type": "code",
   "execution_count": 151,
   "metadata": {
    "ExecuteTime": {
     "end_time": "2019-10-24T15:44:16.763742Z",
     "start_time": "2019-10-24T15:44:16.731823Z"
    }
   },
   "outputs": [
    {
     "name": "stdout",
     "output_type": "stream",
     "text": [
      "Short Term 12 (2013)\n"
     ]
    }
   ],
   "source": [
    "df = pd.read_sql_query('select a.Movie_id,Title,Domestic,Worldwide,budget from IMDB as a inner join earning as b where a.Movie_id = b.Movie_id', db)\n",
    "df[['Budget']] = df[['Budget']].apply(pd.to_numeric)\n",
    "df['NetProfit'] = df['Domestic']+df['Worldwide']-df['Budget']\n",
    "a = df[(df['Budget'] == df.Budget.min())]\n",
    "# df[(df['Budget'] == df['Budget'].min()) & (df['NetProfit']==df['NetProfit'].max())]\n",
    "print(list(a[a.NetProfit == a.NetProfit.max()]['Title'])[0])"
   ]
  },
  {
   "cell_type": "markdown",
   "metadata": {},
   "source": [
    "##### Find the highest-grossing movie (i.e domestic earning + worldwide earning) in IMDB database year wise.\n",
    "Print the Year and name of the movie which was the highest grosser in that year.\n",
    "Note:Print the year in ascending order."
   ]
  },
  {
   "cell_type": "code",
   "execution_count": 206,
   "metadata": {
    "ExecuteTime": {
     "end_time": "2019-10-24T16:20:31.084051Z",
     "start_time": "2019-10-24T16:20:30.971555Z"
    }
   },
   "outputs": [
    {
     "name": "stdout",
     "output_type": "stream",
     "text": [
      "2010 Toy Story 3 (2010)\n",
      "2011 Rise of the Planet of the Apes (2011)\n",
      "2012 The Avengers (2012)\n",
      "2013 The Hunger Games: Catching Fire (2013)\n",
      "2014 Guardians of the Galaxy (2014)\n",
      "2015 Star Wars: The Force Awakens (2015)\n",
      "2016 Rogue One (2016)\n"
     ]
    }
   ],
   "source": [
    "df = pd.read_sql_query('select a.Movie_id,Title,Domestic,Worldwide from imdb a inner join earning b on a.Movie_id = b.Movie_id',db)\n",
    "df['Grossing'] = df.Domestic + df.Worldwide\n",
    "for i in range(len(df)):\n",
    "    year = df.iloc[i].Title.split('(')[-1][:-1]\n",
    "    df.at[i,'Year'] = year\n",
    "\n",
    "d = {}\n",
    "for _,row in df.iterrows():\n",
    "    year = int(row['Year'])\n",
    "#     ID = row['Movie_id']\n",
    "    name = row['Title']\n",
    "    x = row['Grossing']\n",
    "    t = (name,x)\n",
    "    if year not in d:\n",
    "        d[year] = t\n",
    "    else:\n",
    "        highest = d[year][-1]\n",
    "        if x>highest:\n",
    "            d[year] = t\n",
    "\n",
    "years = sorted(list(d.keys()))\n",
    "for year in years:\n",
    "    print(year,d[year][0])"
   ]
  },
  {
   "cell_type": "markdown",
   "metadata": {
    "ExecuteTime": {
     "end_time": "2019-10-24T16:13:36.796097Z",
     "start_time": "2019-10-24T16:13:36.779422Z"
    }
   },
   "source": [
    "##### Find out the percentage of the budget for each genre in IMDB Movie Dataset?Plot the pie chart.\n",
    "Print the genre and percentage of movies budget present in that genre with 2 decimal place after rounding off.  \n",
    "Note: \n",
    " - Movies has multiple genres, so calculate the percentage for each genre.\n",
    " - Replace empty budget column to zero."
   ]
  },
  {
   "cell_type": "code",
   "execution_count": 248,
   "metadata": {
    "ExecuteTime": {
     "end_time": "2019-10-24T17:12:22.792838Z",
     "start_time": "2019-10-24T17:12:22.485777Z"
    }
   },
   "outputs": [
    {
     "data": {
      "image/png": "[encoded data removed]",
      "text/plain": [
       "<Figure size 432x288 with 1 Axes>"
      ]
     },
     "metadata": {},
     "output_type": "display_data"
    },
    {
     "name": "stdout",
     "output_type": "stream",
     "text": [
      "Adventure 25.10\n",
      "Action 17.98\n",
      "Drama 10.85\n",
      "Sci-Fi 10.77\n",
      "Animation 7.66\n",
      "Comedy 7.22\n",
      "Fantasy 4.54\n",
      "Thriller 3.99\n",
      "Biography 2.59\n",
      "Mystery 1.95\n",
      "Family 1.91\n",
      "Crime 1.77\n",
      "Romance 1.12\n",
      "History 0.72\n",
      "Western 0.57\n",
      "Sport 0.46\n",
      "War 0.36\n",
      "Musical 0.25\n",
      "Music 0.15\n",
      "Horror 0.03\n"
     ]
    }
   ],
   "source": [
    "df = pd.read_sql_query('select a.Movie_id, Genre, Title, Budget from imdb a inner join genre b on a.Movie_id = b.Movie_id',db)\n",
    "df[['Budget']] = df[['Budget']].apply(pd.to_numeric)\n",
    "df.Budget.fillna(0,inplace = True)\n",
    "# df.head()\n",
    "\n",
    "d = {} # genre : budget\n",
    "for _,row in df.iterrows():\n",
    "    genre = row['genre']\n",
    "    budget = row['Budget']\n",
    "    d[genre] = d.get(genre,0)+budget\n",
    "d.pop('',None)\n",
    "d = sorted(d.items(), key=lambda x: x[1], reverse=True)\n",
    "# d\n",
    "\n",
    "import matplotlib.pyplot as plt\n",
    "\n",
    "counts = [t[1] for t in d]\n",
    "genres = [t[0] for t in d]\n",
    "\n",
    "plt.pie(counts,labels = genres,autopct = '%.2f')\n",
    "plt.show()\n",
    "\n",
    "for i in range(len(d)):\n",
    "    p = round((counts[i]/sum(counts))*100,2)\n",
    "    print(genres[i],'{:.2f}'.format(p))"
   ]
  },
  {
   "cell_type": "markdown",
   "metadata": {},
   "source": [
    "##### Find out the percentage of the total earning for each genre in IMDB Movie Dataset\n",
    "Plot the pie chart.  \n",
    "Print the genre and percentage of movies total earning present in that genre with 2 decimal place after rounding off.  \n",
    "Note: Movies have multiple genres, so calculate the percentage for each genre.Total Earning=Domestic earning + WorldWide earning."
   ]
  },
  {
   "cell_type": "code",
   "execution_count": 254,
   "metadata": {
    "ExecuteTime": {
     "end_time": "2019-10-24T17:47:41.842947Z",
     "start_time": "2019-10-24T17:47:41.531758Z"
    },
    "code_folding": []
   },
   "outputs": [
    {
     "data": {
      "image/png": "[encoded data removed]",
      "text/plain": [
       "<Figure size 432x288 with 1 Axes>"
      ]
     },
     "metadata": {},
     "output_type": "display_data"
    },
    {
     "name": "stdout",
     "output_type": "stream",
     "text": [
      "Adventure 23.57\n",
      "Action 17.91\n",
      "Drama 11.96\n",
      "Sci-Fi 9.95\n",
      "Comedy 7.69\n",
      "Animation 6.77\n",
      "Fantasy 5.15\n",
      "Thriller 4.42\n",
      "Biography 3.42\n",
      "Mystery 2.01\n",
      "Crime 1.55\n",
      "Romance 1.45\n",
      "Family 1.05\n",
      "History 1.04\n",
      "Western 0.65\n",
      "Music 0.43\n",
      "Musical 0.38\n",
      "Sport 0.32\n",
      "War 0.25\n",
      "Horror 0.01\n"
     ]
    }
   ],
   "source": [
    "df = pd.read_sql_query(\n",
    "    'select a.Movie_id, Genre, Title, Domestic, Worldwide from imdb a inner join genre b on a.Movie_id=b.Movie_id inner join earning c on a.Movie_id=c.Movie_id', db)\n",
    "df['TotalEarned'] = df.Domestic + df.Worldwide\n",
    "df.head()\n",
    "\n",
    "d = {}  # genre : total_earning\n",
    "for _, row in df.iterrows():\n",
    "    genre = row['genre']\n",
    "    total = row['TotalEarned']\n",
    "    d[genre] = d.get(genre, 0)+total\n",
    "d.pop('', None)\n",
    "d = sorted(d.items(), key=lambda x: x[1], reverse=True)\n",
    "\n",
    "counts = [t[1] for t in d]\n",
    "genres = [t[0] for t in d]\n",
    "\n",
    "import matplotlib.pyplot as plt\n",
    "\n",
    "plt.pie(counts,labels = genres,autopct = '%.2f')\n",
    "plt.show()\n",
    "\n",
    "for i in range(len(d)):\n",
    "    p = round((counts[i]/sum(counts))*100,2)\n",
    "    print(genres[i],'{:.2f}'.format(p))"
   ]
  },
  {
   "cell_type": "markdown",
   "metadata": {},
   "source": [
    "##### Find the movie which has genre of 'Sci-Fi' and 'Mystery' and movie rating is greater or equal to 8 from IMDB Movie Database.\n",
    "Print the movie name.\n",
    "Movies has multiple genre."
   ]
  },
  {
   "cell_type": "code",
   "execution_count": 266,
   "metadata": {
    "ExecuteTime": {
     "end_time": "2019-10-24T17:58:47.245440Z",
     "start_time": "2019-10-24T17:58:47.214099Z"
    }
   },
   "outputs": [
    {
     "name": "stdout",
     "output_type": "stream",
     "text": [
      "Arrival (2016)\n"
     ]
    }
   ],
   "source": [
    "df = pd.read_sql_query('select a.Movie_id, Title, Genre, Rating from imdb a inner join genre b on a.Movie_id = b.Movie_id',db)\n",
    "df = df[df['Rating']>=8]\n",
    "df = df[(df['genre']=='Sci-Fi') | (df['genre']=='Mystery') ]\n",
    "d = {} # name: [genres]\n",
    "for _,row in df.iterrows():\n",
    "    name = row['Title']\n",
    "    genre = row['genre']\n",
    "    if name not in d:\n",
    "        d[name] = set()\n",
    "    d[name].add(genre)\n",
    "    \n",
    "for k,v in d.items():\n",
    "    if len(v)==2:\n",
    "        print(k)"
   ]
  }
 ],
 "metadata": {
  "kernelspec": {
   "display_name": "Python 3",
   "language": "python",
   "name": "python3"
  },
  "language_info": {
   "codemirror_mode": {
    "name": "ipython",
    "version": 3
   },
   "file_extension": ".py",
   "mimetype": "text/x-python",
   "name": "python",
   "nbconvert_exporter": "python",
   "pygments_lexer": "ipython3",
   "version": "3.7.6"
  },
  "toc": {
   "base_numbering": 1,
   "nav_menu": {},
   "number_sections": true,
   "sideBar": true,
   "skip_h1_title": false,
   "title_cell": "Table of Contents",
   "title_sidebar": "Contents",
   "toc_cell": false,
   "toc_position": {},
   "toc_section_display": true,
   "toc_window_display": false
  }
 },
 "nbformat": 4,
 "nbformat_minor": 2
}
